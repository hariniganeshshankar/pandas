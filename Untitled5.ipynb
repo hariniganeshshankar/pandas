{
  "nbformat": 4,
  "nbformat_minor": 0,
  "metadata": {
    "colab": {
      "name": "Untitled5.ipynb",
      "provenance": [],
      "collapsed_sections": [],
      "authorship_tag": "ABX9TyO4cqCYkhs7cmwgSJFWk9qx"
    },
    "kernelspec": {
      "name": "python3",
      "display_name": "Python 3"
    },
    "language_info": {
      "name": "python"
    }
  },
  "cells": [
    {
      "cell_type": "code",
      "metadata": {
        "id": "Iv1u_IJetYkb"
      },
      "source": [
        "import pandas as pd"
      ],
      "execution_count": null,
      "outputs": []
    },
    {
      "cell_type": "code",
      "metadata": {
        "id": "duYgoOgWtlk4"
      },
      "source": [
        " (\"https://agmarknet.gov.in/SearchCmmMkt.aspx?Tx_Commodity=24&Tx_State=UP&Tx_District=1&Tx_Market=0&DateFrom=01-Jan-2020&DateTo=31-Dec-2020&Fr_Date=01-Jan-2020&To_Date=31-Dec-2020&Tx_Trend=2&Tx_CommodityHead=Potato&Tx_StateHead=Uttar+Pradesh&Tx_DistrictHead=Agra&Tx_MarketHead=--Select--\", match=\"2020\")"
      ],
      "execution_count": null,
      "outputs": []
    },
    {
      "cell_type": "code",
      "metadata": {
        "colab": {
          "base_uri": "https://localhost:8080/"
        },
        "id": "eXBox_sHuZgQ",
        "outputId": "b76ecf3c-e54c-451a-f12d-6beaaa68135c"
      },
      "source": [
        "df_list"
      ],
      "execution_count": null,
      "outputs": [
        {
          "output_type": "execute_result",
          "data": {
            "text/plain": [
              "[      State Name District Name  ... Modal Price (Rs./Quintal) Reported Date\n",
              " 0  Uttar Pradesh          Agra  ...                      1350   01 Jan 2020\n",
              " 1  Uttar Pradesh          Agra  ...                      1455   01 Jan 2020\n",
              " 2  Uttar Pradesh          Agra  ...                      1300   01 Jan 2020\n",
              " 3  Uttar Pradesh          Agra  ...                      1250   01 Jan 2020\n",
              " 4  Uttar Pradesh          Agra  ...                      1250   01 Jan 2020\n",
              " 5  Uttar Pradesh          Agra  ...                      1200   01 Jan 2020\n",
              " 6              -             -  ...                         -             -\n",
              " 7              -             -  ...                         -             -\n",
              " \n",
              " [8 rows x 10 columns]]"
            ]
          },
          "metadata": {},
          "execution_count": 5
        }
      ]
    },
    {
      "cell_type": "code",
      "metadata": {
        "id": "DgpcHkP9yBEL"
      },
      "source": [
        "df_list = pd.read_html(\"https://agmarknet.gov.in/SearchCmmMkt.aspx?Tx_Commodity=24&Tx_State=UP&Tx_District=1&Tx_Market=0&DateFrom=01-Jan-2020&DateTo=31-Dec-2020&Fr_Date=01-Jan-2020&To_Date=31-Dec-2020&Tx_Trend=0&Tx_CommodityHead=Potato&Tx_StateHead=Uttar+Pradesh&Tx_DistrictHead=Agra&Tx_MarketHead=--Select--\", match=\"2020\")"
      ],
      "execution_count": null,
      "outputs": []
    },
    {
      "cell_type": "code",
      "metadata": {
        "colab": {
          "base_uri": "https://localhost:8080/"
        },
        "id": "KAlpAS8zyrV1",
        "outputId": "a0f2362e-6e86-4cf5-d653-2f08a30cc5d4"
      },
      "source": [
        "df_list\n"
      ],
      "execution_count": null,
      "outputs": [
        {
          "output_type": "execute_result",
          "data": {
            "text/plain": [
              "[    Sl no. District Name  ... Modal Price (Rs./Quintal)   Price Date\n",
              " 0      1.0          Agra  ...                     950.0  30 Dec 2020\n",
              " 1      2.0          Agra  ...                     850.0  29 Dec 2020\n",
              " 2      3.0          Agra  ...                     900.0  28 Dec 2020\n",
              " 3      4.0          Agra  ...                     850.0  27 Dec 2020\n",
              " 4      5.0          Agra  ...                     850.0  26 Dec 2020\n",
              " 5      6.0          Agra  ...                     850.0  25 Dec 2020\n",
              " 6      7.0          Agra  ...                    1000.0  23 Dec 2020\n",
              " 7      8.0          Agra  ...                     870.0  22 Dec 2020\n",
              " 8      9.0          Agra  ...                     850.0  21 Dec 2020\n",
              " 9     10.0          Agra  ...                     850.0  20 Dec 2020\n",
              " 10    11.0          Agra  ...                    1000.0  19 Dec 2020\n",
              " 11    12.0          Agra  ...                    1050.0  18 Dec 2020\n",
              " 12    13.0          Agra  ...                    1400.0  16 Dec 2020\n",
              " 13    14.0          Agra  ...                    1450.0  15 Dec 2020\n",
              " 14    15.0          Agra  ...                    1750.0  14 Dec 2020\n",
              " 15    16.0          Agra  ...                    1750.0  13 Dec 2020\n",
              " 16    17.0          Agra  ...                    1700.0  12 Dec 2020\n",
              " 17    18.0          Agra  ...                    2050.0  11 Dec 2020\n",
              " 18    19.0          Agra  ...                    2350.0  09 Dec 2020\n",
              " 19    20.0          Agra  ...                    2400.0  08 Dec 2020\n",
              " 20    21.0          Agra  ...                    2600.0  07 Dec 2020\n",
              " 21    22.0          Agra  ...                    2700.0  06 Dec 2020\n",
              " 22    23.0          Agra  ...                    2800.0  05 Dec 2020\n",
              " 23    24.0          Agra  ...                    2840.0  04 Dec 2020\n",
              " 24    25.0          Agra  ...                    2800.0  02 Dec 2020\n",
              " 25    26.0          Agra  ...                    2890.0  01 Dec 2020\n",
              " 26    27.0          Agra  ...                    2880.0  30 Nov 2020\n",
              " 27    28.0          Agra  ...                    3800.0  29 Nov 2020\n",
              " 28    29.0          Agra  ...                    2860.0  28 Nov 2020\n",
              " 29    30.0          Agra  ...                    2870.0  27 Nov 2020\n",
              " 30    31.0          Agra  ...                    2900.0  25 Nov 2020\n",
              " 31    32.0          Agra  ...                    2900.0  24 Nov 2020\n",
              " 32    33.0          Agra  ...                    2880.0  23 Nov 2020\n",
              " 33    34.0          Agra  ...                    2860.0  22 Nov 2020\n",
              " 34    35.0          Agra  ...                    2880.0  21 Nov 2020\n",
              " 35    36.0          Agra  ...                    2900.0  20 Nov 2020\n",
              " 36    37.0          Agra  ...                    2880.0  18 Nov 2020\n",
              " 37    38.0          Agra  ...                    2840.0  17 Nov 2020\n",
              " 38    39.0          Agra  ...                    2840.0  16 Nov 2020\n",
              " 39    40.0          Agra  ...                    2830.0  15 Nov 2020\n",
              " 40    41.0          Agra  ...                    2830.0  14 Nov 2020\n",
              " 41    42.0          Agra  ...                    2840.0  13 Nov 2020\n",
              " 42    43.0          Agra  ...                    2820.0  11 Nov 2020\n",
              " 43    44.0          Agra  ...                    2800.0  10 Nov 2020\n",
              " 44    45.0          Agra  ...                    2800.0  09 Nov 2020\n",
              " 45    46.0          Agra  ...                    2800.0  08 Nov 2020\n",
              " 46    47.0          Agra  ...                    2820.0  07 Nov 2020\n",
              " 47    48.0          Agra  ...                    2800.0  06 Nov 2020\n",
              " 48    49.0          Agra  ...                    2800.0  04 Nov 2020\n",
              " 49    50.0          Agra  ...                    2800.0  03 Nov 2020\n",
              " 50     NaN           NaN  ...                       NaN          NaN\n",
              " \n",
              " [51 rows x 10 columns]]"
            ]
          },
          "metadata": {},
          "execution_count": 9
        }
      ]
    }
  ]
}